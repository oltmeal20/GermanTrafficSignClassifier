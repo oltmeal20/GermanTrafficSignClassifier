{
  "nbformat": 4,
  "nbformat_minor": 0,
  "metadata": {
    "colab": {
      "name": "Copy of AiFinal2020.ipynb",
      "provenance": [],
      "collapsed_sections": [],
      "toc_visible": true
    },
    "kernelspec": {
      "name": "python3",
      "display_name": "Python 3"
    }
  },
  "cells": [
    {
      "cell_type": "markdown",
      "metadata": {
        "id": "C4vrR4d-Euhc"
      },
      "source": [
        "# German Traffic Sign Classifier\r\n",
        "### By Luke Oltmanns & Ryan Peerenboom"
      ]
    },
    {
      "cell_type": "markdown",
      "metadata": {
        "id": "ieLlz9ahs467"
      },
      "source": [
        "# Loading The Data"
      ]
    },
    {
      "cell_type": "code",
      "metadata": {
        "id": "v1tCdptws5RL"
      },
      "source": [
        "from __future__ import print_function\r\n",
        "\r\n",
        "import pandas as pd\r\n",
        "import numpy as np\r\n",
        "import os\r\n",
        "\r\n",
        "import csv\r\n",
        "import cv2\r\n",
        "\r\n",
        "import matplotlib.pyplot as plt\r\n",
        "import matplotlib.image as mpimg\r\n",
        "\r\n",
        "import tensorflow as tf\r\n",
        "from tensorflow.python.client import device_lib\r\n",
        "from tensorflow.keras import datasets, layers, models\r\n",
        "\r\n",
        "from sklearn.metrics import accuracy_score\r\n",
        "from sklearn.metrics import confusion_matrix\r\n",
        "from sklearn.neural_network import MLPClassifier\r\n",
        "from sklearn.datasets import fetch_openml\r\n",
        "from sklearn.model_selection import train_test_split\r\n",
        "\r\n",
        "from skimage import data as skimage_data\r\n",
        "from skimage import transform\r\n",
        "from skimage.color import rgb2gray"
      ],
      "execution_count": null,
      "outputs": []
    },
    {
      "cell_type": "code",
      "metadata": {
        "id": "6dLRCRqZs5fr"
      },
      "source": [
        "#paths to data\r\n",
        "root = \"./drive/MyDrive/Dataset/\"\r\n",
        "trainPath = \"./drive/MyDrive/Dataset/Train.csv\"\r\n",
        "testPath = \"./drive/MyDrive/Dataset/Test.csv\""
      ],
      "execution_count": null,
      "outputs": []
    },
    {
      "cell_type": "code",
      "metadata": {
        "id": "WoQbCaNCs5sW"
      },
      "source": [
        "columns = [\"Width\", \"Height\", \"Roi.X1\", \"Roi.Y1\", \"Roi.X2\", \"Roi.Y2\", \"ClassId\", \"Path\"]"
      ],
      "execution_count": null,
      "outputs": []
    },
    {
      "cell_type": "code",
      "metadata": {
        "id": "wy2XkQdas6fI"
      },
      "source": [
        "#method for loading training data\r\n",
        "def loadDataset(path):\r\n",
        "    images_histogram_equalized = []\r\n",
        "    images = []\r\n",
        "    classes = []\r\n",
        "    data = pd.read_csv(path)\r\n",
        "    data = data.sample(frac=1).reset_index(drop=True)\r\n",
        "\r\n",
        "    # loop to pull images from csv one row at a time\r\n",
        "    for i,row in data.iterrows():\r\n",
        "        img_path = row['Path']\r\n",
        "        img_class = row['ClassId']\r\n",
        "\r\n",
        "        img = os.path.join(root,img_path)\r\n",
        "        img = cv2.imread(img)\r\n",
        "\r\n",
        "        # bypasses any image not loaded to avoid erros\r\n",
        "        if type(img) is np.ndarray:\r\n",
        "            if img.size == 0:\r\n",
        "                continue\r\n",
        "        if img is None:\r\n",
        "            continue\r\n",
        "\r\n",
        "        # resize image to disired size\r\n",
        "        img_resize = cv2.resize(img,(32,32),3) #resizes each img to size 32*32*3\r\n",
        "\r\n",
        "        #split and perform histogram equalization to enhance image contrast\r\n",
        "        R, G, B = cv2.split((img_resize))\r\n",
        "\r\n",
        "        img_r = cv2.equalizeHist(R)\r\n",
        "        img_g = cv2.equalizeHist(G)\r\n",
        "        img_b = cv2.equalizeHist(B)\r\n",
        "\r\n",
        "        new_image = cv2.merge((img_r, img_g, img_b))\r\n",
        "\r\n",
        "        # put data into numpy arrays\r\n",
        "        if i>0 and i%1000 == 0:\r\n",
        "            print(\"loaded: \",i,\" images\")\r\n",
        "        images.append(img_resize)\r\n",
        "        images_histogram_equalized.append(new_image)\r\n",
        "        classes.append(img_class)\r\n",
        "\r\n",
        "    # put data into numpy arrays\r\n",
        "    imgs = np.array(images)\r\n",
        "    imgs_hist = np.array(images_histogram_equalized)\r\n",
        "    labels = np.array(classes)\r\n",
        "    \r\n",
        "    return imgs, imgs_hist, labels"
      ],
      "execution_count": null,
      "outputs": []
    },
    {
      "cell_type": "code",
      "metadata": {
        "id": "IcrmetoZs8Hx"
      },
      "source": [
        "#use crated 'loadDataset()' methods to retrieve training images and labels\r\n",
        "X_train, y_train = loadDataset(trainPath)"
      ],
      "execution_count": null,
      "outputs": []
    },
    {
      "cell_type": "code",
      "metadata": {
        "id": "MzqrCw0fHQES"
      },
      "source": [
        "#use crated 'loadDataset()' methods to retrieve testing images and labels\r\n",
        "X_test, y_test = loadDataset(testPath)"
      ],
      "execution_count": null,
      "outputs": []
    },
    {
      "cell_type": "code",
      "metadata": {
        "id": "hXdi1r7Us8UB"
      },
      "source": [
        "print(\"X_train: \", X_train.shape)\r\n",
        "print(\"y_train: \", y_train.shape)\r\n",
        "print(\"X_test: \", X_test.shape)\r\n",
        "print(\"y_test: \", y_test.shape)"
      ],
      "execution_count": null,
      "outputs": []
    },
    {
      "cell_type": "code",
      "metadata": {
        "id": "dLjSdFpds8ld"
      },
      "source": [
        "#Normalize pixel values between 0 and 1\r\n",
        "X_train, X_train_hist, X_test, X_test_hist= X_train/255.0, X_train_hist/255.0, X_test/255.0, X_test_hist/255.0"
      ],
      "execution_count": null,
      "outputs": []
    },
    {
      "cell_type": "markdown",
      "metadata": {
        "id": "sNNweHmrtrOD"
      },
      "source": [
        "### Displaying the Data"
      ]
    },
    {
      "cell_type": "code",
      "metadata": {
        "id": "yhaeZbp8twgg"
      },
      "source": [
        "#verify dataset\r\n",
        "plt.figure(figsize=(10,10))\r\n",
        "for i in range(25):\r\n",
        "    plt.subplot(5,5,i+1)\r\n",
        "    plt.xticks([])\r\n",
        "    plt.yticks([])\r\n",
        "    plt.grid(False)\r\n",
        "    plt.imshow(X_train[i], cmap=plt.cm.binary)\r\n",
        "    plt.xlabel(y_train[i])\r\n",
        "\r\n",
        "plt.show()"
      ],
      "execution_count": null,
      "outputs": []
    },
    {
      "cell_type": "code",
      "metadata": {
        "id": "1tCPtK_-tww1"
      },
      "source": [
        "#verify training data as a bar graph\r\n",
        "n_classes = max(y_test) - min(y_test) + 1\r\n",
        "classes = range(n_classes)\r\n",
        "counts = []\r\n",
        "\r\n",
        "for sign_code in range(n_classes):\r\n",
        "    image_list = list(np.where(y_train == sign_code)[0])\r\n",
        "    counts += [len(image_list)]\r\n",
        "    \r\n",
        "plt.figure(figsize=(15,5)) \r\n",
        "plt.bar(classes, counts, width=0.7, align='center')\r\n",
        "plt.ylabel('Number of Examples')\r\n",
        "plt.xlabel('Class Index')\r\n",
        "plt.xticks(np.arange(0, 43, 1.0))\r\n",
        "plt.title(\"Class Distribution of Training Set\")\r\n",
        "plt.ylim([0,4000])\r\n",
        "plt.show()"
      ],
      "execution_count": null,
      "outputs": []
    },
    {
      "cell_type": "code",
      "metadata": {
        "id": "oB1ihQ0LtxBl"
      },
      "source": [
        "#verify testing data as a bar graph\r\n",
        "n_classes = max(y_test) - min(y_test) + 1\r\n",
        "classes = range(n_classes)\r\n",
        "counts = []\r\n",
        "\r\n",
        "for sign_code in range(n_classes):\r\n",
        "    image_list = list(np.where(y_test == sign_code)[0])\r\n",
        "    counts += [len(image_list)]\r\n",
        "    \r\n",
        "plt.figure(figsize=(15,5)) \r\n",
        "plt.bar(classes, counts, width=0.7, align='center')\r\n",
        "plt.ylabel('Number of Examples')\r\n",
        "plt.xlabel('Class Index')\r\n",
        "plt.xticks(np.arange(0, 43, 1.0))\r\n",
        "plt.title(\"Class Distribution of Testing Set\")\r\n",
        "plt.ylim([0,4000])\r\n",
        "plt.show()"
      ],
      "execution_count": null,
      "outputs": []
    },
    {
      "cell_type": "markdown",
      "metadata": {
        "id": "LdNiBusit73y"
      },
      "source": [
        "# Building Models"
      ]
    },
    {
      "cell_type": "markdown",
      "metadata": {
        "id": "hc-8z2Brsp0C"
      },
      "source": [
        "### CNN ReLU"
      ]
    },
    {
      "cell_type": "code",
      "metadata": {
        "id": "6eYZY3i1t8yL"
      },
      "source": [
        "#create convolutional Neural Network (CNN) with base \"relu\"\r\n",
        "CNNModelRelu = models.Sequential()\r\n",
        "CNNModelRelu.add(layers.Conv2D(32, (3, 3), activation='relu', input_shape=(32, 32, 3)))\r\n",
        "CNNModelRelu.add(layers.MaxPooling2D((2, 2)))\r\n",
        "CNNModelRelu.add(layers.Conv2D(64, (3, 3), activation='relu'))\r\n",
        "CNNModelRelu.add(layers.MaxPooling2D((2, 2)))\r\n",
        "CNNModelRelu.add(layers.Conv2D(64, (3, 3), activation='relu'))\r\n",
        "CNNModelRelu.add(layers.Dropout(0.2))\r\n",
        "\r\n",
        "#add dense layers\r\n",
        "CNNModelRelu.add(layers.Flatten())\r\n",
        "CNNModelRelu.add(layers.Dense(64, activation='relu'))\r\n",
        "CNNModelRelu.add(layers.Dense(43, activation='softmax'))\r\n",
        "\r\n",
        "#compile and train the CNNModelRelu\r\n",
        "CNNModelRelu.compile(optimizer='adam', loss='sparse_categorical_crossentropy', metrics=['acc'])\r\n",
        "\r\n",
        "CNNHistoryRelu = CNNModelRelu.fit(X_train_hist, y_train, epochs=10, validation_data=(X_test_hist, y_test))"
      ],
      "execution_count": null,
      "outputs": []
    },
    {
      "cell_type": "markdown",
      "metadata": {
        "id": "w7g60431suT1"
      },
      "source": [
        "### CNN Tanh"
      ]
    },
    {
      "cell_type": "code",
      "metadata": {
        "id": "Ky3fDC6yt8_9"
      },
      "source": [
        "#create convolutional Neural Network (CNN) with base \"tanh\"\r\n",
        "CNNModelTanh= models.Sequential()\r\n",
        "CNNModelTanh.add(layers.Conv2D(32, (3, 3), activation='tanh', input_shape=(32, 32, 3)))\r\n",
        "CNNModelTanh.add(layers.MaxPooling2D((2, 2)))\r\n",
        "CNNModelTanh.add(layers.Conv2D(64, (3, 3), activation='tanh'))\r\n",
        "CNNModelTanh.add(layers.MaxPooling2D((2, 2)))\r\n",
        "CNNModelTanh.add(layers.Conv2D(64, (3, 3), activation='tanh'))\r\n",
        "CNNModelTanh.add(layers.Dropout(0.2))\r\n",
        "\r\n",
        "#add dense layers\r\n",
        "CNNModelTanh.add(layers.Flatten())\r\n",
        "CNNModelTanh.add(layers.Dense(64, activation='tanh'))\r\n",
        "CNNModelTanh.add(layers.Dense(43, activation='softmax'))\r\n",
        "\r\n",
        "#compile and train the CNNModelTanh\r\n",
        "CNNModelTanh.compile(optimizer='adam', loss='sparse_categorical_crossentropy', metrics=['acc'])\r\n",
        "\r\n",
        "CNNHistoryTanh= CNNModelTanh.fit(X_train_hist, y_train, epochs=10, validation_data=(X_test_hist, y_test))"
      ],
      "execution_count": null,
      "outputs": []
    },
    {
      "cell_type": "markdown",
      "metadata": {
        "id": "44wOBz0Es5PJ"
      },
      "source": [
        "### CNN Sigmoid"
      ]
    },
    {
      "cell_type": "code",
      "metadata": {
        "id": "0QDLMSDUt9NH"
      },
      "source": [
        "#create convolutional Neural Network (CNN) with base \"sigmoid\"\r\n",
        "CNNModelSig= models.Sequential()\r\n",
        "CNNModelSig.add(layers.Conv2D(32, (3, 3), activation='sigmoid', input_shape=(32, 32, 3)))\r\n",
        "CNNModelSig.add(layers.MaxPooling2D((2, 2)))\r\n",
        "CNNModelSig.add(layers.Conv2D(64, (3, 3), activation='sigmoid'))\r\n",
        "CNNModelSig.add(layers.MaxPooling2D((2, 2)))\r\n",
        "CNNModelSig.add(layers.Conv2D(64, (3, 3), activation='sigmoid'))\r\n",
        "CNNModelSig.add(layers.Dropout(0.2))\r\n",
        "\r\n",
        "#add dense layers\r\n",
        "CNNModelSig.add(layers.Flatten())\r\n",
        "CNNModelSig.add(layers.Dense(64, activation='sigmoid'))\r\n",
        "CNNModelSig.add(layers.Dense(43, activation='softmax'))\r\n",
        "\r\n",
        "#compile and train the CNNModelSig\r\n",
        "CNNModelSig.compile(optimizer='adam', loss='sparse_categorical_crossentropy', metrics=['acc'])\r\n",
        "\r\n",
        "CNNHistorySig = CNNModelSig.fit(X_train, y_train, epochs=10, validation_data=(X_test, y_test))"
      ],
      "execution_count": null,
      "outputs": []
    },
    {
      "cell_type": "markdown",
      "metadata": {
        "id": "h21hsPAns8lN"
      },
      "source": [
        "### CNN Cross Activations"
      ]
    },
    {
      "cell_type": "code",
      "metadata": {
        "id": "Ne6r35nytApX"
      },
      "source": [
        "#create convolutional Neural Network (CNN) with cross activations\r\n",
        "CNNModelX= models.Sequential()\r\n",
        "CNNModelX.add(layers.Conv2D(64, (3, 3), activation='relu', input_shape=(32, 32, 3)))\r\n",
        "CNNModelX.add(layers.MaxPooling2D((2, 2)))\r\n",
        "CNNModelX.add(layers.Conv2D(64, (3, 3), activation='tanh'))\r\n",
        "CNNModelX.add(layers.MaxPooling2D((2, 2)))\r\n",
        "CNNModelX.add(layers.Conv2D(64, (3, 3), activation='sigmoid'))\r\n",
        "CNNModelX.add(layers.Dropout(0.1))\r\n",
        "\r\n",
        "#add dense layers\r\n",
        "CNNModelX.add(layers.Flatten())\r\n",
        "CNNModelX.add(layers.Dense(64, activation='relu'))\r\n",
        "CNNModelX.add(layers.Dense(43, activation='softmax'))\r\n",
        "\r\n",
        "#compile and train the CNNModelX\r\n",
        "CNNModelX.compile(optimizer='adam', loss='sparse_categorical_crossentropy', metrics=['acc'])\r\n",
        "\r\n",
        "CNNHistoryX= CNNModelX.fit(X_train, y_train, epochs=10, validation_data=(X_test, y_test))"
      ],
      "execution_count": null,
      "outputs": []
    },
    {
      "cell_type": "markdown",
      "metadata": {
        "id": "_ytaLQgAtFTB"
      },
      "source": [
        "### CNN Random Layers"
      ]
    },
    {
      "cell_type": "code",
      "metadata": {
        "id": "YrM4kbmDtFmw"
      },
      "source": [
        "#create random convolutional Neural Network (CNN)\r\n",
        "CNNModelRand= models.Sequential()\r\n",
        "CNNModelRand.add(layers.Conv2D(32, (5, 5), activation='relu', input_shape=(32, 32, 3)))\r\n",
        "CNNModelRand.add(layers.MaxPooling2D((2, 2)))\r\n",
        "CNNModelRand.add(layers.Conv2D(48, (5, 5), activation='relu'))\r\n",
        "CNNModelRand.add(layers.MaxPooling2D((2, 2)))\r\n",
        "CNNModelRand.add(layers.Dropout(0.2))\r\n",
        "\r\n",
        "#add dense layers\r\n",
        "CNNModelRand.add(layers.Flatten())\r\n",
        "CNNModelRand.add(layers.Dense(128, activation='relu'))\r\n",
        "CNNModelRand.add(layers.Dense(64, activation='relu'))\r\n",
        "CNNModelRand.add(layers.Dense(43, activation='softmax'))\r\n",
        "\r\n",
        "#compile and train the CNNModelRand\r\n",
        "CNNModelRand.compile(optimizer='adam', loss='sparse_categorical_crossentropy', metrics=['acc'])\r\n",
        "\r\n",
        "CNNHistoryRand= CNNModelRand.fit(X_train, y_train, epochs=10, validation_data=(X_test, y_test))"
      ],
      "execution_count": null,
      "outputs": []
    },
    {
      "cell_type": "markdown",
      "metadata": {
        "id": "9HvennJWtF2K"
      },
      "source": [
        "### CNN Random Layers Two"
      ]
    },
    {
      "cell_type": "code",
      "metadata": {
        "id": "s94PYUeztGAU"
      },
      "source": [
        "#create second random convolutional Neural Network (CNN)\r\n",
        "CNNModelRandTwo= models.Sequential()\r\n",
        "CNNModelRandTwo.add(layers.Conv2D(32, (3, 3), activation='tanh', input_shape=(32, 32, 3)))\r\n",
        "CNNModelRandTwo.add(layers.MaxPooling2D((2, 2)))\r\n",
        "CNNModelRandTwo.add(layers.Conv2D(128, (2, 2), activation='relu'))\r\n",
        "CNNModelRandTwo.add(layers.Conv2D(64, (5, 5), activation='relu'))\r\n",
        "CNNModelRandTwo.add(layers.MaxPooling2D((3, 3)))\r\n",
        "CNNModelRandTwo.add(layers.Dropout(0.4))\r\n",
        "\r\n",
        "#add dense layers\r\n",
        "CNNModelRandTwo.add(layers.Flatten())\r\n",
        "CNNModelRandTwo.add(layers.Dense(512, activation='relu'))\r\n",
        "CNNModelRandTwo.add(layers.Dense(256, activation='tanh'))\r\n",
        "CNNModelRandTwo.add(layers.Dropout(0.2))\r\n",
        "CNNModelRandTwo.add(layers.Dense(512, activation='relu'))\r\n",
        "CNNModelRandTwo.add(layers.Dense(43, activation='softmax'))\r\n",
        "\r\n",
        "#compile and train the CNNModelRandTwo\r\n",
        "CNNModelRandTwo.compile(optimizer='adam', loss='sparse_categorical_crossentropy', metrics=['acc'])\r\n",
        "\r\n",
        "CNNHistoryRandTwo= CNNModelRandTwo.fit(X_train, y_train, epochs=10, validation_data=(X_test, y_test))"
      ],
      "execution_count": null,
      "outputs": []
    },
    {
      "cell_type": "markdown",
      "metadata": {
        "id": "MFPITNHQtGS0"
      },
      "source": [
        "### Simple Dense NN 0 hidden Layers"
      ]
    },
    {
      "cell_type": "code",
      "metadata": {
        "id": "5WTyn39wtGdM"
      },
      "source": [
        "#simple dense neural network with 0 hidden layers of ReLU\r\n",
        "SDNNModelZero = models.Sequential()\r\n",
        "SDNNModelZero.add(layers.Flatten())\r\n",
        "SDNNModelZero.add(layers.Dense(43, activation='softmax'))\r\n",
        "SDNNModelZero.compile(optimizer='adam', loss='sparse_categorical_crossentropy', metrics=['acc'])\r\n",
        "\r\n",
        "SDNNHistoryZero= SDNNModelZero.fit(X_train, y_train, epochs=10, validation_data=(X_test, y_test))"
      ],
      "execution_count": null,
      "outputs": []
    },
    {
      "cell_type": "markdown",
      "metadata": {
        "id": "Dzbvx_dgtGnz"
      },
      "source": [
        "### Simple Dense NN 5 hidden Layers"
      ]
    },
    {
      "cell_type": "code",
      "metadata": {
        "id": "Pk69FMBTtGwQ"
      },
      "source": [
        "#simple dense neural network with 5 hidden layers of ReLU\r\n",
        "SDNNModelFiveRelu = models.Sequential()\r\n",
        "SDNNModelFiveRelu.add(layers.Flatten())\r\n",
        "SDNNModelFiveRelu.add(layers.Dense(1024, activation='relu'))\r\n",
        "SDNNModelFiveRelu.add(layers.Dense(512, activation='relu'))\r\n",
        "SDNNModelFiveRelu.add(layers.Dense(256, activation='relu'))\r\n",
        "SDNNModelFiveRelu.add(layers.Dense(128, activation='relu'))\r\n",
        "SDNNModelFiveRelu.add(layers.Dense(64, activation='relu'))\r\n",
        "SDNNModelFiveRelu.add(layers.Dense(43, activation='softmax'))\r\n",
        "SDNNModelFiveRelu.compile(optimizer='adam', loss='sparse_categorical_crossentropy', metrics=['acc'])\r\n",
        "\r\n",
        "SDNNHistoryFiveRelu= SDNNModelFiveRelu.fit(X_train, y_train, epochs=10, validation_data=(X_test, y_test))"
      ],
      "execution_count": null,
      "outputs": []
    },
    {
      "cell_type": "markdown",
      "metadata": {
        "id": "zU6P5N1dOBc6"
      },
      "source": [
        "### CNN Best Result"
      ]
    },
    {
      "cell_type": "code",
      "metadata": {
        "id": "537vtOkDOA_n"
      },
      "source": [
        "#create convolutional neural network with best result\r\n",
        "CNNModelBest= models.Sequential()\r\n",
        "CNNModelBest.add(layers.Conv2D(32, (5, 5), activation='relu', input_shape=(32, 32, 3)))\r\n",
        "CNNModelBest.add(layers.BatchNormalization())\r\n",
        "CNNModelBest.add(layers.MaxPooling2D((2, 2)))\r\n",
        "\r\n",
        "CNNModelBest.add(layers.Conv2D(48, (5, 5), activation='relu'))\r\n",
        "CNNModelBest.add(layers.BatchNormalization())\r\n",
        "CNNModelBest.add(layers.MaxPooling2D((2, 2)))\r\n",
        "\r\n",
        "#add dense layers\r\n",
        "CNNModelBest.add(layers.Flatten())\r\n",
        "CNNModelBest.add(layers.Dense(120, activation='relu'))\r\n",
        "CNNModelBest.add(layers.Dropout(0.2))\r\n",
        "CNNModelBest.add(layers.Dense(84, activation='relu'))\r\n",
        "CNNModelBest.add(layers.Dropout(0.1))\r\n",
        "CNNModelBest.add(layers.Dense(43, activation='softmax'))\r\n",
        "\r\n",
        "#compile and train the CNNModelBest\r\n",
        "CNNModelBest.compile(optimizer='adam', loss='sparse_categorical_crossentropy', metrics=['acc'])\r\n",
        "\r\n",
        "CNNHistoryBest= CNNModelBest.fit(X_train, y_train, epochs=10, validation_data=(X_test, y_test))"
      ],
      "execution_count": null,
      "outputs": []
    },
    {
      "cell_type": "markdown",
      "metadata": {
        "id": "WTzQF4Z7uNtB"
      },
      "source": [
        "# Testing the Models"
      ]
    },
    {
      "cell_type": "markdown",
      "metadata": {
        "id": "LawpoxC7t4bx"
      },
      "source": [
        "### Standard CNN Models"
      ]
    },
    {
      "cell_type": "code",
      "metadata": {
        "id": "0jy-LF5xt-ut"
      },
      "source": [
        "#display traditional CNN models' accuracies\r\n",
        "plt.plot(CNNHistoryRelu.history['acc'], label='CNN ReLU accuracy')\r\n",
        "plt.plot(CNNHistoryRelu.history['val_acc'], label='CNN ReLU val_accuracy')\r\n",
        "\r\n",
        "plt.plot(CNNHistoryTanh.history['acc'], label='CNN Tanh accuracy')\r\n",
        "plt.plot(CNNHistoryTanh.history['val_acc'], label='CNN Tanh val_accuracy')\r\n",
        "\r\n",
        "plt.plot(CNNHistorySig.history['acc'], label='CNN Sigmoid accuracy')\r\n",
        "plt.plot(CNNHistorySig.history['val_acc'], label='CNN Sigmoid val_accuracy')\r\n",
        "\r\n",
        "plt.xlabel('Epoch')\r\n",
        "plt.ylabel('Accuracy')\r\n",
        "plt.ylim([0.5, 1])\r\n",
        "plt.legend(loc='lower right')"
      ],
      "execution_count": null,
      "outputs": []
    },
    {
      "cell_type": "code",
      "metadata": {
        "id": "8aHcqNpcuTfy"
      },
      "source": [
        "#display traditional CNN models' loss\r\n",
        "plt.plot(CNNHistoryRelu.history['loss'], label='CNN ReLU loss')\r\n",
        "plt.plot(CNNHistoryRelu.history['val_loss'], label='CNN ReLU val_loss')\r\n",
        "\r\n",
        "plt.plot(CNNHistoryTanh.history['loss'], label='CNN Tanh loss')\r\n",
        "plt.plot(CNNHistoryTanh.history['val_loss'], label='CNN Tanh val_loss')\r\n",
        "\r\n",
        "plt.plot(CNNHistorySig.history['loss'], label='CNN Sigmoid loss')\r\n",
        "plt.plot(CNNHistorySig.history['val_loss'], label='CNN Sigmoid val_loss')\r\n",
        "\r\n",
        "plt.xlabel('Epoch')\r\n",
        "plt.ylabel('Loss')\r\n",
        "plt.ylim([0, 0.5])\r\n",
        "plt.legend(loc='lower right')"
      ],
      "execution_count": null,
      "outputs": []
    },
    {
      "cell_type": "code",
      "metadata": {
        "id": "cCNHm_nouTr_"
      },
      "source": [
        "#evaluate traditional CNN models\r\n",
        "relu_test_loss, relu_test_acc = CNNModelRelu.evaluate(X_test, y_test, verbose = 2)\r\n",
        "print(\"The ReLU test accuracy is: \" + str(relu_test_acc))\r\n",
        "print(\"The ReLU test loss is: \" + str(relu_test_loss))\r\n",
        "\r\n",
        "tanh_test_loss, tanh_test_acc = CNNModelTanh.evaluate(X_test, y_test, verbose = 2)\r\n",
        "print(\"The Tanh test accuracy is: \" + str(tanh_test_acc))\r\n",
        "print(\"The Tanh test loss is: \" + str(tanh_test_loss))\r\n",
        "\r\n",
        "sig_test_loss, sig_test_acc = CNNModelSig.evaluate(X_test, y_test, verbose = 2)\r\n",
        "print(\"The Sigmoid test accuracy is: \" + str(sig_test_acc))\r\n",
        "print(\"The Sigmoid test loss is: \" + str(sig_test_loss))"
      ],
      "execution_count": null,
      "outputs": []
    },
    {
      "cell_type": "markdown",
      "metadata": {
        "id": "Xm4MUA0mt_Rb"
      },
      "source": [
        "### Exotic CNN Models"
      ]
    },
    {
      "cell_type": "code",
      "metadata": {
        "id": "KVqR2OcCuFO7"
      },
      "source": [
        "#display exotic CNN models' accuracies\r\n",
        "plt.plot(CNNHistoryX.history['acc'], label='CNN Cross accuracy')\r\n",
        "plt.plot(CNNHistoryX.history['val_acc'], label='CNN Cross val_accuracy')\r\n",
        "\r\n",
        "plt.plot(CNNHistoryRand.history['acc'], label='CNN Random accuracy')\r\n",
        "plt.plot(CNNHistoryRand.history['val_acc'], label='CNN Random val_accuracy')\r\n",
        "\r\n",
        "plt.plot(CNNHistoryRandTwo.history['acc'], label='CNN Random Two accuracy')\r\n",
        "plt.plot(CNNHistoryRandTwo.history['val_acc'], label='CNN Random Two val_accuracy')\r\n",
        "\r\n",
        "plt.xlabel('Epoch')\r\n",
        "plt.ylabel('Accuracy')\r\n",
        "plt.ylim([0.5, 1])\r\n",
        "plt.legend(loc='lower right')"
      ],
      "execution_count": null,
      "outputs": []
    },
    {
      "cell_type": "code",
      "metadata": {
        "id": "6dBzZ6AiuyhE"
      },
      "source": [
        "#evaluate exotic CNN models\r\n",
        "X_test_loss, X_test_acc = CNNModelX.evaluate(X_test, y_test, verbose = 2)\r\n",
        "print(\"The Cross test accuracy is: \" + str(X_test_acc))\r\n",
        "\r\n",
        "Rand_test_loss, Rand_test_acc = CNNModelRand.evaluate(X_test, y_test, verbose = 2)\r\n",
        "print(\"The Random test accuracy is: \" + str(Rand_test_acc))\r\n",
        "\r\n",
        "RandTwo_test_loss, RandTwo_test_acc = CNNModelRandTwo.evaluate(X_test, y_test, verbose = 2)\r\n",
        "print(\"The Second Random test accuracy is: \" + str(sig_test_acc))"
      ],
      "execution_count": null,
      "outputs": []
    },
    {
      "cell_type": "markdown",
      "metadata": {
        "id": "nfsDBgyUuFjc"
      },
      "source": [
        "### Simple Dense NN Models"
      ]
    },
    {
      "cell_type": "code",
      "metadata": {
        "id": "Kx8bzUILu23C"
      },
      "source": [
        "#display SDNN models' accuracies\r\n",
        "plt.plot(SDNNHistoryZero.history['acc'], label='SDNN Zero accuracy')\r\n",
        "plt.plot(SDNNHistoryZero.history['val_acc'], label='SDNN Zero val_accuracy')\r\n",
        "\r\n",
        "plt.plot(SDNNHistoryFiveRelu.history['acc'], label='SDNN Five accuracy')\r\n",
        "plt.plot(SDNNHistoryFiveRelu.history['val_acc'], label='SDNN Five val_accuracy')\r\n",
        "\r\n",
        "plt.xlabel('Epoch')\r\n",
        "plt.ylabel('Accuracy')\r\n",
        "plt.ylim([0.5, 1])\r\n",
        "plt.legend(loc='lower right')"
      ],
      "execution_count": null,
      "outputs": []
    },
    {
      "cell_type": "code",
      "metadata": {
        "id": "5RXIuSiMu3Ag"
      },
      "source": [
        "#evaluate exotic CNN models\r\n",
        "Zero_test_loss, Zero_test_acc = SDNNModelZero.evaluate(X_test, y_test, verbose = 2)\r\n",
        "print(\"The zero hidden layer test accuracy is: \" + str(Zero_test_acc))\r\n",
        "\r\n",
        "Five_test_loss, Rand_test_acc = SDNNModelFiveRelu.evaluate(X_test, y_test, verbose = 2)\r\n",
        "print(\"The five hidden layer test accuracy is: \" + str(Rand_test_acc))"
      ],
      "execution_count": null,
      "outputs": []
    },
    {
      "cell_type": "markdown",
      "metadata": {
        "id": "apjg5BDROzAa"
      },
      "source": [
        "### Best Result Model"
      ]
    },
    {
      "cell_type": "code",
      "metadata": {
        "id": "DDYIp9ehOzTE"
      },
      "source": [
        "#display 'Best' model accuracies\r\n",
        "plt.plot(CNNHistoryBest.history['acc'], label='CNN Best Result accuracy')\r\n",
        "plt.plot(CNNHistoryBest.history['val_acc'], label='CNN Best Result val_accuracy')\r\n",
        "\r\n",
        "plt.xlabel('Epoch')\r\n",
        "plt.ylabel('Accuracy')\r\n",
        "plt.ylim([0.5, 1])\r\n",
        "plt.legend(loc='lower right')"
      ],
      "execution_count": null,
      "outputs": []
    },
    {
      "cell_type": "code",
      "metadata": {
        "id": "uaqxbZpiPdDS"
      },
      "source": [
        "#display 'Best' model loss\r\n",
        "plt.plot(CNNHistoryBest.history['loss'], label='CNN Best Result loss')\r\n",
        "plt.plot(CNNHistoryBest.history['val_loss'], label='CNN Best Result val_loss')\r\n",
        "\r\n",
        "plt.xlabel('Epoch')\r\n",
        "plt.ylabel('Loss')\r\n",
        "plt.ylim([0, 0.5])\r\n",
        "plt.legend(loc='lower right')"
      ],
      "execution_count": null,
      "outputs": []
    },
    {
      "cell_type": "code",
      "metadata": {
        "id": "Efc7JZtFPka6"
      },
      "source": [
        "#evaluate 'Best' model\r\n",
        "best_test_loss, best_test_acc = CNNModelBest.evaluate(X_test, y_test, verbose = 2)\r\n",
        "print(\"The Best Result test accuracy is: \" + str(best_test_acc))\r\n",
        "print(\"The Best Result test loss is: \" + str(best_test_loss))"
      ],
      "execution_count": null,
      "outputs": []
    },
    {
      "cell_type": "markdown",
      "metadata": {
        "id": "HXMsqAaPu8dv"
      },
      "source": [
        "### All Model Accuracies"
      ]
    },
    {
      "cell_type": "code",
      "metadata": {
        "id": "bKAWObbFu7uJ"
      },
      "source": [
        "#display all models' accuracies\r\n",
        "plt.plot(CNNHistoryRelu.history['acc'], label='CNN ReLU accuracy')\r\n",
        "plt.plot(CNNHistoryTanh.history['acc'], label='CNN Tanh accuracy')\r\n",
        "plt.plot(CNNHistorySig.history['acc'], label='CNN Sigmoid accuracy')\r\n",
        "plt.plot(CNNHistoryX.history['acc'], label='CNN Cross accuracy')\r\n",
        "plt.plot(CNNHistoryRand.history['acc'], label='CNN Random accuracy')\r\n",
        "plt.plot(CNNHistoryRandTwo.history['acc'], label='CNN Random Two accuracy')\r\n",
        "plt.plot(SDNNHistoryZero.history['acc'], label='SDNN Zero accuracy')\r\n",
        "plt.plot(SDNNHistoryFiveRelu.history['acc'], label='SDNN Five accuracy')\r\n",
        "plt.plot(CNNHistoryBest.history['acc'], label='CNN Best Result accuracy')\r\n",
        "\r\n",
        "plt.xlabel('Epoch')\r\n",
        "plt.ylabel('Accuracy')\r\n",
        "plt.ylim([0.5, 1])\r\n",
        "plt.legend(loc='lower right')"
      ],
      "execution_count": null,
      "outputs": []
    },
    {
      "cell_type": "markdown",
      "metadata": {
        "id": "P9DgBj-8uaOY"
      },
      "source": [
        "## Make Predictions"
      ]
    },
    {
      "cell_type": "code",
      "metadata": {
        "id": "J2HbI4t-ukWJ"
      },
      "source": [
        "#verify that our model is accurate by showing that an image from \r\n",
        "#our test data matches a predicted image from our model evaluation\r\n",
        "probability_model = tf.keras.Sequential([CNNModelBest, tf.keras.layers.Softmax()])\r\n",
        "predictions = probability_model.predict(X_test)\r\n",
        "predictions[0]\r\n",
        "np.argmax(predictions[0])\r\n",
        "y_test[0]"
      ],
      "execution_count": null,
      "outputs": []
    },
    {
      "cell_type": "markdown",
      "metadata": {
        "id": "dm1WCsU-yWYi"
      },
      "source": [
        "## Verify Predictions"
      ]
    },
    {
      "cell_type": "code",
      "metadata": {
        "id": "hUXLOoMBvNS7"
      },
      "source": [
        "#array of labels (corresponds with the bar graphs dispayed above)\r\n",
        "class_names = ['0','1','2','3','4','5','6','7','8','9',\r\n",
        "               '10','11','12','13','14','15','16','17','18','19',\r\n",
        "               '20','21','22','23','24','25','26','27','28','29',\r\n",
        "               '30','31','32','33','34','35','36','37','38','39',\r\n",
        "               '40','41','42']"
      ],
      "execution_count": null,
      "outputs": []
    },
    {
      "cell_type": "code",
      "metadata": {
        "id": "Dzjph3JxyW5Z"
      },
      "source": [
        "#method for displaying images\r\n",
        "def plot_image(i, predictions_array, true_label, img):\r\n",
        "  true_label, img = true_label[i], img[i]\r\n",
        "  plt.grid(False)\r\n",
        "  plt.xticks([])\r\n",
        "  plt.yticks([])\r\n",
        "\r\n",
        "  plt.imshow(img, cmap=plt.cm.binary)\r\n",
        "\r\n",
        "  predicted_label = np.argmax(predictions_array)\r\n",
        "  if predicted_label == true_label:\r\n",
        "    color = 'blue'\r\n",
        "  else:\r\n",
        "    color = 'red'\r\n",
        "\r\n",
        "  plt.xlabel(\"{} {:2.0f}% ({})\".format(class_names[predicted_label],\r\n",
        "                                100*np.max(predictions_array),\r\n",
        "                                class_names[true_label]),\r\n",
        "                                color=color)\r\n"
      ],
      "execution_count": null,
      "outputs": []
    },
    {
      "cell_type": "code",
      "metadata": {
        "id": "PyW9PusvvTlQ"
      },
      "source": [
        "#method for displaying graph of image classification accuracy\r\n",
        "def plot_value_array(i, predictions_array, true_label):\r\n",
        "  true_label = true_label[i]\r\n",
        "  plt.grid(False)\r\n",
        "  plt.xticks(range(43))\r\n",
        "  plt.yticks([])\r\n",
        "  thisplot = plt.bar(range(43), predictions_array, color=\"#777777\")\r\n",
        "  plt.ylim([0, 0.1])\r\n",
        "  predicted_label = np.argmax(predictions_array)\r\n",
        "\r\n",
        "  thisplot[predicted_label].set_color('red')\r\n",
        "  thisplot[true_label].set_color('blue')"
      ],
      "execution_count": null,
      "outputs": []
    },
    {
      "cell_type": "code",
      "metadata": {
        "id": "p6JLkN3yyXFZ"
      },
      "source": [
        "#display a single image and visual result\r\n",
        "i = 0\r\n",
        "plt.figure(figsize=(30,3))\r\n",
        "plt.subplot(1,2,1)\r\n",
        "plot_image(i, predictions[i], y_test, X_test)\r\n",
        "plt.subplot(1,2,2)\r\n",
        "plot_value_array(i, predictions[i], y_test)\r\n",
        "plt.show()"
      ],
      "execution_count": null,
      "outputs": []
    },
    {
      "cell_type": "code",
      "metadata": {
        "id": "jQHRE1dHyXMU"
      },
      "source": [
        "#display a single image and visual result\r\n",
        "i = 12\r\n",
        "plt.figure(figsize=(30,3))\r\n",
        "plt.subplot(1,2,1)\r\n",
        "plot_image(i, predictions[i], y_test, X_test)\r\n",
        "plt.subplot(1,2,2)\r\n",
        "plot_value_array(i, predictions[i], y_test)\r\n",
        "plt.show()"
      ],
      "execution_count": null,
      "outputs": []
    },
    {
      "cell_type": "code",
      "metadata": {
        "id": "fxtcA-s6yXTe"
      },
      "source": [
        "#display a multiple images and visual result of those images\r\n",
        "num_rows = 15\r\n",
        "num_cols = 1\r\n",
        "num_images = num_rows*num_cols\r\n",
        "plt.figure(figsize=(2*20*num_cols, 2*num_rows))\r\n",
        "for i in range(num_images):\r\n",
        "  plt.subplot(num_rows, 2*num_cols, 2*i+1)\r\n",
        "  plot_image(i, predictions[i], y_test, X_test)\r\n",
        "  plt.subplot(num_rows, 2*num_cols, 2*i+2)\r\n",
        "  plot_value_array(i, predictions[i], y_test)\r\n",
        "plt.tight_layout()\r\n",
        "plt.show()"
      ],
      "execution_count": null,
      "outputs": []
    }
  ]
}